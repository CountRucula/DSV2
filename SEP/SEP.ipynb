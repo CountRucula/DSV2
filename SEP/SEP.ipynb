{
 "cells": [
  {
   "cell_type": "markdown",
   "metadata": {},
   "source": [
    "### Imports"
   ]
  },
  {
   "cell_type": "code",
   "execution_count": 2,
   "metadata": {},
   "outputs": [],
   "source": [
    "import numpy as np\n",
    "import pandas as pd\n",
    "import matplotlib.pyplot as plt\n",
    "import scipy.signal as sig\n",
    "from scipy.signal import lfilter\n",
    "\n",
    "from kalman_filter import KalmanFilter\n",
    "from extended_kalman_filter import ExtendedKalmanFilter"
   ]
  },
  {
   "cell_type": "markdown",
   "metadata": {},
   "source": [
    "### Aufgabe 1"
   ]
  },
  {
   "cell_type": "markdown",
   "metadata": {},
   "source": [
    "### Aufgabe 2"
   ]
  },
  {
   "cell_type": "code",
   "execution_count": null,
   "metadata": {},
   "outputs": [],
   "source": [
    "def correlate(x, y): \n",
    "    \"\"\"\n",
    "    correlates x with y\n",
    "    \n",
    "    ! moves y !\n",
    "    \"\"\"\n",
    "    rxy = np.correlate(y, x, 'full')\n",
    "    lags = np.arange(-len(y)+1, len(x), dtype=int)[::-1]\n",
    "\n",
    "    return np.column_stack((lags, rxy))"
   ]
  },
  {
   "cell_type": "code",
   "execution_count": 50,
   "metadata": {},
   "outputs": [
    {
     "name": "stdout",
     "output_type": "stream",
     "text": [
      "0.0\n",
      "[[  9.  -8.]\n",
      " [  8.  -8.]\n",
      " [  7.   8.]\n",
      " [  6.  12.]\n",
      " [  5.  -6.]\n",
      " [  4. -32.]\n",
      " [  3. -40.]\n",
      " [  2. -14.]\n",
      " [  1.  45.]\n",
      " [  0.  86.]\n",
      " [ -1.  45.]\n",
      " [ -2. -14.]\n",
      " [ -3. -40.]\n",
      " [ -4. -32.]\n",
      " [ -5.  -6.]\n",
      " [ -6.  12.]\n",
      " [ -7.   8.]\n",
      " [ -8.  -8.]\n",
      " [ -9.  -8.]]\n",
      "-1.75\n",
      "-14.0\n"
     ]
    }
   ],
   "source": [
    "x = np.array([2,0,-3,1,4,4,2,-2,-4,-4], dtype=float)\n",
    "print(np.mean(x))\n",
    "\n",
    "print(correlate(x,x))\n",
    "print(-14/8)\n",
    "\n",
    "print(np.sum(x[:-2]*x[2:]))"
   ]
  },
  {
   "cell_type": "code",
   "execution_count": 34,
   "metadata": {},
   "outputs": [
    {
     "name": "stdout",
     "output_type": "stream",
     "text": [
      "-1.9\n"
     ]
    }
   ],
   "source": [
    "z = np.array([-1.1, -3.1, -3.1, 8.0, -2.8, -4.9, 0.6, -1.7, -2.8, -0.6, 8.0, -2.1, -2.2, -1.7, -1.9])\n",
    "print(np.median(z))"
   ]
  },
  {
   "cell_type": "markdown",
   "metadata": {},
   "source": [
    "### Aufgabe 3"
   ]
  },
  {
   "cell_type": "code",
   "execution_count": null,
   "metadata": {},
   "outputs": [
    {
     "name": "stdout",
     "output_type": "stream",
     "text": [
      "mu_max = 0.5\n",
      "b = [ 1. -1.]\n",
      "0.0\n"
     ]
    },
    {
     "data": {
      "image/png": "[encoded data removed]",
      "text/plain": [
       "<Figure size 640x480 with 1 Axes>"
      ]
     },
     "metadata": {},
     "output_type": "display_data"
    }
   ],
   "source": [
    "N_FIR = 1   # filter ordnung\n",
    "N_Iter = 100  # lms iterationen\n",
    "mu_max = 1 / (N_FIR + 1) # maximale learnrate\n",
    "print(f'mu_max = {mu_max}')\n",
    "\n",
    "enable_print = False\n",
    "\n",
    "# learnrate\n",
    "mu = 0.1*mu_max\n",
    "mu = 0.1\n",
    "\n",
    "# init vektoren\n",
    "b = np.array([1,-1], dtype=float)\n",
    "e = np.zeros(N_Iter)\n",
    "y = np.zeros(N_Iter)\n",
    "\n",
    "# soll signal\n",
    "d = np.array([0, 0.866, 0.866, 0, -0.866, -0.866])\n",
    "d = np.tile(d, 50)\n",
    "\n",
    "# input signal\n",
    "x = np.concatenate(([0,0], d))\n",
    "#x = np.array([0, 0], dtype=float)\n",
    "x = np.array([x[start:start+N_FIR+1] for start in np.arange(len(x)-N_FIR)])\n",
    "x = x[:, ::-1]\n",
    "\n",
    "#print(x)\n",
    "\n",
    "# lms\n",
    "for n in range(N_Iter):\n",
    "    # calc y[n]\n",
    "    y[n] = b@x[n]\n",
    "\n",
    "    # calc e[n]\n",
    "    e[n] = d[n] - y[n]\n",
    "    \n",
    "    if enable_print:\n",
    "        print(f'Iteration {n}:')\n",
    "        print(f'\\tx[{n}] = {x[n]}')\n",
    "        print(f'\\tb[{n}] = {b}')\n",
    "        print(f'\\ty[{n}] = {y[n]}')\n",
    "        print(f'\\td[{n}] = {d[n]}')\n",
    "        print(f'\\te[{n}] = {e[n]}')\n",
    "        print()\n",
    "    \n",
    "    # calc b[n]\n",
    "    b += 2*mu*e[n]*x[n]\n",
    "\n",
    "plt.figure()\n",
    "plt.plot(e)\n",
    "#plt.plot(d)\n",
    "plt.grid(True)\n",
    "\n",
    "\n",
    "print(f'b = {b}')"
   ]
  },
  {
   "cell_type": "markdown",
   "metadata": {},
   "source": [
    "### Aufgabe 4\n"
   ]
  },
  {
   "cell_type": "code",
   "execution_count": 46,
   "metadata": {},
   "outputs": [
    {
     "name": "stdout",
     "output_type": "stream",
     "text": [
      "[[-0.9  0.   0. ]\n",
      " [-0.9 -0.9  0. ]\n",
      " [ 0.8 -0.9 -0.9]\n",
      " [ 0.3  0.8 -0.9]\n",
      " [-0.6  0.3  0.8]\n",
      " [ 1.  -0.6  0.3]]\n",
      "[ 5.00000000e-01  5.55111512e-17 -5.00000000e-01]\n",
      "[-0.45 -0.45  0.85  0.6  -0.7   0.35]\n",
      "4.970237561727503e-16\n"
     ]
    }
   ],
   "source": [
    "N_FIR = 2 # filter ordnung\n",
    "\n",
    "# soll signal\n",
    "d = np.array([0, 0, -0.45, -0.45, 0.85, 0.60, -0.70, 0.35])\n",
    "\n",
    "# input signal\n",
    "x = np.array([0, 0, -0.90, -0.90, 0.80, 0.30, -0.60, 1.00], dtype=float)\n",
    "x = np.array([x[start:start+N_FIR+1] for start in np.arange(len(x)-N_FIR)])\n",
    "x = x[:, ::-1]\n",
    "\n",
    "print(x)\n",
    "\n",
    "# bls\n",
    "bls = np.linalg.pinv(x)@d[2:]\n",
    "\n",
    "print(bls)\n",
    "\n",
    "y = x@bls\n",
    "print(y)\n",
    "e = np.sqrt(np.mean((y - d[2:])**2))\n",
    "print(e)"
   ]
  },
  {
   "cell_type": "markdown",
   "metadata": {},
   "source": [
    "### Aufgabe 5\n"
   ]
  },
  {
   "cell_type": "code",
   "execution_count": 17,
   "metadata": {},
   "outputs": [
    {
     "name": "stdout",
     "output_type": "stream",
     "text": [
      "[[10.  0.]\n",
      " [ 0. 10.]]\n",
      "[[15.]\n",
      " [15.]]\n",
      "[[20. 10.]\n",
      " [10. 10.]]\n"
     ]
    }
   ],
   "source": [
    "Ts = 1\n",
    "\n",
    "A = np.array([[1, Ts], [0, 1]], dtype=float)\n",
    "C = np.array([[0, 1]], dtype=float)\n",
    "P = 10 * np.eye(2)\n",
    "print(P)\n",
    "\n",
    "x = np.array([[0], [15]], dtype=float)\n",
    "\n",
    "print(A@x)\n",
    "print(A @ P @ A.T)"
   ]
  },
  {
   "cell_type": "code",
   "execution_count": 18,
   "metadata": {},
   "outputs": [
    {
     "name": "stdout",
     "output_type": "stream",
     "text": [
      "[[11.4285]\n",
      " [11.4285]]\n"
     ]
    }
   ],
   "source": [
    "K = np.array([[0.7143], [0.7143]])\n",
    "x = A@x\n",
    "x = x + K*(10 - x[1])\n",
    "print(x)\n"
   ]
  },
  {
   "cell_type": "markdown",
   "metadata": {},
   "source": [
    "### Aufgabe 6"
   ]
  },
  {
   "cell_type": "code",
   "execution_count": 19,
   "metadata": {},
   "outputs": [],
   "source": [
    "def relu(X):\n",
    "    return np.where(X>0, X, 0)\n",
    "\n",
    "def diffRelu(X):\n",
    "    return (X >= 0)*1\n",
    "\n",
    "def sigmoid(X):\n",
    "    return 1/(1 + np.exp(-X))\n",
    "\n",
    "def diffSigmoid(X):\n",
    "    return sigmoid(X) * (1 - sigmoid(X))\n",
    "\n",
    "def MSELoss(y, d):\n",
    "    return 0.5*(d - y)**2\n",
    "\n",
    "def diffMSELoss(y, d):\n",
    "    return y - d\n",
    "\n",
    "def LogisticLoss(y, d):\n",
    "    return -(d * np.log(y) + (1-d)*np.log(1-y))\n",
    "\n",
    "def diffLogisticLoss(y, d):\n",
    "    return - d/y + (1-d)/(1-y)\n"
   ]
  },
  {
   "cell_type": "code",
   "execution_count": 21,
   "metadata": {},
   "outputs": [
    {
     "name": "stdout",
     "output_type": "stream",
     "text": [
      "0.7310585786300049\n",
      "0.3132616875182228\n"
     ]
    }
   ],
   "source": [
    "y = sigmoid(1)\n",
    "print(y)\n",
    "\n",
    "print(LogisticLoss(y, 1))"
   ]
  },
  {
   "cell_type": "code",
   "execution_count": 25,
   "metadata": {},
   "outputs": [
    {
     "name": "stdout",
     "output_type": "stream",
     "text": [
      "-1.3678794411714423\n",
      "0.19661193324148185\n",
      "-0.2689414213699951\n"
     ]
    }
   ],
   "source": [
    "dl = diffLogisticLoss(y, 1)\n",
    "print(dl)\n",
    "\n",
    "dv = diffSigmoid(1)\n",
    "print(dv)\n",
    "\n",
    "db = dl*dv\n",
    "print(db)"
   ]
  }
 ],
 "metadata": {
  "kernelspec": {
   "display_name": "DSV2",
   "language": "python",
   "name": "python3"
  },
  "language_info": {
   "codemirror_mode": {
    "name": "ipython",
    "version": 3
   },
   "file_extension": ".py",
   "mimetype": "text/x-python",
   "name": "python",
   "nbconvert_exporter": "python",
   "pygments_lexer": "ipython3",
   "version": "3.11.5"
  }
 },
 "nbformat": 4,
 "nbformat_minor": 2
}
