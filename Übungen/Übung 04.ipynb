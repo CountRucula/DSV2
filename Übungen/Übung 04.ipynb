{
 "cells": [
  {
   "cell_type": "code",
   "execution_count": 1,
   "metadata": {},
   "outputs": [],
   "source": [
    "import numpy as np\n",
    "import matplotlib.pyplot as plt\n",
    "from scipy.stats import norm"
   ]
  },
  {
   "cell_type": "markdown",
   "metadata": {},
   "source": [
    "### Aufgabe 2"
   ]
  },
  {
   "cell_type": "code",
   "execution_count": 3,
   "metadata": {},
   "outputs": [
    {
     "name": "stdout",
     "output_type": "stream",
     "text": [
      "[0.52274538 0.55077692]\n",
      "[0.68797846 1.07352231 1.18367769 1.56922154]\n"
     ]
    }
   ],
   "source": [
    "y = np.array([\n",
    "    0.5323,\n",
    "    1.4366,\n",
    "    1.0727,\n",
    "    1.4728\n",
    "])\n",
    "\n",
    "x = np.array([\n",
    "    0.3,\n",
    "    1.0,\n",
    "    1.2,\n",
    "    1.9\n",
    "])\n",
    "\n",
    "A = np.array([(1, x) for x in x])\n",
    "\n",
    "bls = np.linalg.pinv(A)@y\n",
    "\n",
    "print(bls)\n",
    "\n",
    "print(A@bls)"
   ]
  }
 ],
 "metadata": {
  "kernelspec": {
   "display_name": "DSV2",
   "language": "python",
   "name": "python3"
  },
  "language_info": {
   "codemirror_mode": {
    "name": "ipython",
    "version": 3
   },
   "file_extension": ".py",
   "mimetype": "text/x-python",
   "name": "python",
   "nbconvert_exporter": "python",
   "pygments_lexer": "ipython3",
   "version": "3.11.5"
  }
 },
 "nbformat": 4,
 "nbformat_minor": 2
}
